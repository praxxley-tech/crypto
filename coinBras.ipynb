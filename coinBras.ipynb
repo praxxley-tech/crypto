{
  "nbformat": 4,
  "nbformat_minor": 0,
  "metadata": {
    "colab": {
      "provenance": [],
      "authorship_tag": "ABX9TyNkSZbN4HexuLEUrVBfLmuT",
      "include_colab_link": true
    },
    "kernelspec": {
      "name": "python3",
      "display_name": "Python 3"
    },
    "language_info": {
      "name": "python"
    }
  },
  "cells": [
    {
      "cell_type": "markdown",
      "metadata": {
        "id": "view-in-github",
        "colab_type": "text"
      },
      "source": [
        "<a href=\"https://colab.research.google.com/github/praxxley-tech/crypto/blob/main/coinBras.ipynb\" target=\"_parent\"><img src=\"https://colab.research.google.com/assets/colab-badge.svg\" alt=\"Open In Colab\"/></a>"
      ]
    },
    {
      "cell_type": "markdown",
      "source": [
        "Api von Coingecko als Grundlage:"
      ],
      "metadata": {
        "id": "X9YqkLfbBjWr"
      }
    },
    {
      "cell_type": "code",
      "source": [
        "pip install pycoingecko"
      ],
      "metadata": {
        "colab": {
          "base_uri": "https://localhost:8080/"
        },
        "id": "-k3dyQJPBgrG",
        "outputId": "f50227b5-7d3d-4328-96a1-548503bb7b1c"
      },
      "execution_count": 28,
      "outputs": [
        {
          "output_type": "stream",
          "name": "stdout",
          "text": [
            "Looking in indexes: https://pypi.org/simple, https://us-python.pkg.dev/colab-wheels/public/simple/\n",
            "Requirement already satisfied: pycoingecko in /usr/local/lib/python3.9/dist-packages (3.1.0)\n",
            "Requirement already satisfied: requests in /usr/local/lib/python3.9/dist-packages (from pycoingecko) (2.27.1)\n",
            "Requirement already satisfied: urllib3<1.27,>=1.21.1 in /usr/local/lib/python3.9/dist-packages (from requests->pycoingecko) (1.26.15)\n",
            "Requirement already satisfied: certifi>=2017.4.17 in /usr/local/lib/python3.9/dist-packages (from requests->pycoingecko) (2022.12.7)\n",
            "Requirement already satisfied: charset-normalizer~=2.0.0 in /usr/local/lib/python3.9/dist-packages (from requests->pycoingecko) (2.0.12)\n",
            "Requirement already satisfied: idna<4,>=2.5 in /usr/local/lib/python3.9/dist-packages (from requests->pycoingecko) (3.4)\n"
          ]
        }
      ]
    },
    {
      "cell_type": "code",
      "source": [
        "pip install requests_cache"
      ],
      "metadata": {
        "colab": {
          "base_uri": "https://localhost:8080/"
        },
        "id": "t2SyXzWuOyaG",
        "outputId": "c644e06b-1cd2-4887-f715-5a6d0d162dc5"
      },
      "execution_count": 29,
      "outputs": [
        {
          "output_type": "stream",
          "name": "stdout",
          "text": [
            "Looking in indexes: https://pypi.org/simple, https://us-python.pkg.dev/colab-wheels/public/simple/\n",
            "Collecting requests_cache\n",
            "  Downloading requests_cache-1.0.1-py3-none-any.whl (58 kB)\n",
            "\u001b[2K     \u001b[90m━━━━━━━━━━━━━━━━━━━━━━━━━━━━━━━━━━━━━━━━\u001b[0m \u001b[32m58.7/58.7 kB\u001b[0m \u001b[31m4.9 MB/s\u001b[0m eta \u001b[36m0:00:00\u001b[0m\n",
            "\u001b[?25hCollecting url-normalize>=1.4\n",
            "  Downloading url_normalize-1.4.3-py2.py3-none-any.whl (6.8 kB)\n",
            "Requirement already satisfied: requests>=2.22 in /usr/local/lib/python3.9/dist-packages (from requests_cache) (2.27.1)\n",
            "Requirement already satisfied: urllib3>=1.25.5 in /usr/local/lib/python3.9/dist-packages (from requests_cache) (1.26.15)\n",
            "Collecting cattrs>=22.2\n",
            "  Downloading cattrs-22.2.0-py3-none-any.whl (35 kB)\n",
            "Requirement already satisfied: platformdirs>=2.5 in /usr/local/lib/python3.9/dist-packages (from requests_cache) (3.2.0)\n",
            "Requirement already satisfied: attrs>=21.2 in /usr/local/lib/python3.9/dist-packages (from requests_cache) (23.1.0)\n",
            "Requirement already satisfied: exceptiongroup in /usr/local/lib/python3.9/dist-packages (from cattrs>=22.2->requests_cache) (1.1.1)\n",
            "Requirement already satisfied: certifi>=2017.4.17 in /usr/local/lib/python3.9/dist-packages (from requests>=2.22->requests_cache) (2022.12.7)\n",
            "Requirement already satisfied: idna<4,>=2.5 in /usr/local/lib/python3.9/dist-packages (from requests>=2.22->requests_cache) (3.4)\n",
            "Requirement already satisfied: charset-normalizer~=2.0.0 in /usr/local/lib/python3.9/dist-packages (from requests>=2.22->requests_cache) (2.0.12)\n",
            "Requirement already satisfied: six in /usr/local/lib/python3.9/dist-packages (from url-normalize>=1.4->requests_cache) (1.16.0)\n",
            "Installing collected packages: url-normalize, cattrs, requests_cache\n",
            "Successfully installed cattrs-22.2.0 requests_cache-1.0.1 url-normalize-1.4.3\n"
          ]
        }
      ]
    },
    {
      "cell_type": "code",
      "source": [
        "pip install cryptocompare"
      ],
      "metadata": {
        "colab": {
          "base_uri": "https://localhost:8080/"
        },
        "id": "ilxtxWjOO1XC",
        "outputId": "3e6c71ba-13ba-4a79-e599-7c152f68fbaa"
      },
      "execution_count": 32,
      "outputs": [
        {
          "output_type": "stream",
          "name": "stdout",
          "text": [
            "Looking in indexes: https://pypi.org/simple, https://us-python.pkg.dev/colab-wheels/public/simple/\n",
            "Collecting cryptocompare\n",
            "  Downloading cryptocompare-0.7.6.tar.gz (6.0 kB)\n",
            "  Preparing metadata (setup.py) ... \u001b[?25l\u001b[?25hdone\n",
            "Requirement already satisfied: requests in /usr/local/lib/python3.9/dist-packages (from cryptocompare) (2.27.1)\n",
            "Requirement already satisfied: urllib3<1.27,>=1.21.1 in /usr/local/lib/python3.9/dist-packages (from requests->cryptocompare) (1.26.15)\n",
            "Requirement already satisfied: charset-normalizer~=2.0.0 in /usr/local/lib/python3.9/dist-packages (from requests->cryptocompare) (2.0.12)\n",
            "Requirement already satisfied: certifi>=2017.4.17 in /usr/local/lib/python3.9/dist-packages (from requests->cryptocompare) (2022.12.7)\n",
            "Requirement already satisfied: idna<4,>=2.5 in /usr/local/lib/python3.9/dist-packages (from requests->cryptocompare) (3.4)\n",
            "Building wheels for collected packages: cryptocompare\n",
            "  Building wheel for cryptocompare (setup.py) ... \u001b[?25l\u001b[?25hdone\n",
            "  Created wheel for cryptocompare: filename=cryptocompare-0.7.6-py3-none-any.whl size=6302 sha256=a16ec043d0c49c75f834cdb3250b7ca0a55e669f6810219fc8a9b9803d96cebd\n",
            "  Stored in directory: /root/.cache/pip/wheels/2d/12/b4/583c3e2ba3d1332db7ff08d0aca4d08d17b69ed1e53fc3d5f9\n",
            "Successfully built cryptocompare\n",
            "Installing collected packages: cryptocompare\n",
            "Successfully installed cryptocompare-0.7.6\n"
          ]
        }
      ]
    },
    {
      "cell_type": "code",
      "source": [
        "from pycoingecko import CoinGeckoAPI\n",
        "import datetime\n",
        "\n",
        "cg = CoinGeckoAPI()\n",
        "\n",
        "# Best performing coin to buy now\n",
        "def best_coin_to_buy():\n",
        "    coins = cg.get_coins_markets(vs_currency='usd', per_page=50)\n",
        "\n",
        "    best_profit_loss = -100.0\n",
        "    best_coin = \"\"\n",
        "\n",
        "    for coin in coins:\n",
        "        coin_id = coin['id']\n",
        "        historical_data = cg.get_coin_market_chart_by_id(coin_id, vs_currency='usd', days=365)\n",
        "\n",
        "        if len(historical_data['prices']) < 2:\n",
        "            continue\n",
        "\n",
        "        first_price = historical_data['prices'][0][1]\n",
        "        last_price = historical_data['prices'][-1][1]\n",
        "\n",
        "        profit_loss = ((last_price - first_price) / first_price) * 100\n",
        "\n",
        "        if profit_loss > best_profit_loss:\n",
        "            best_profit_loss = profit_loss\n",
        "            best_coin = coin['name']\n",
        "\n",
        "    return best_coin\n",
        "\n",
        "# Predicted performance of top 10 coins\n",
        "def predicted_performance():\n",
        "    coins = cg.get_coins_markets(vs_currency='usd', per_page=10)\n",
        "\n",
        "    performance = {}\n",
        "\n",
        "    for coin in coins:\n",
        "        coin_id = coin['id']\n",
        "        historical_data = cg.get_coin_market_chart_by_id(coin_id, vs_currency='usd', days=365)\n",
        "\n",
        "        if len(historical_data['prices']) < 2:\n",
        "            continue\n",
        "\n",
        "        first_price = historical_data['prices'][0][1]\n",
        "        last_price = historical_data['prices'][-1][1]\n",
        "\n",
        "        profit_loss = ((last_price - first_price) / first_price) * 100\n",
        "\n",
        "        performance[coin['name']] = profit_loss\n",
        "\n",
        "    return performance\n",
        "\n",
        "if __name__ == '__main__':\n",
        "    best_coin = best_coin_to_buy()\n",
        "    print(f\"The best performing coin to buy now is {best_coin}\")\n",
        "\n",
        "    performance = predicted_performance()\n",
        "    sorted_performance = sorted(performance.items(), key=lambda x: x[1], reverse=True)\n",
        "\n",
        "    print(\"Predicted performance of top 10 coins:\")\n",
        "    for coin, profit_loss in sorted_performance:\n",
        "        print(f\"{coin}: {profit_loss:.2f}%\")\n",
        "\n",
        "def hidden_gems():\n",
        "    coins = cg.get_coins_markets(vs_currency='usd', per_page=50)\n",
        "\n",
        "    hidden_gems = {}\n",
        "\n",
        "    for coin in coins:\n",
        "        coin_id = coin['id']\n",
        "        historical_data = cg.get_coin_market_chart_by_id(coin_id, vs_currency='usd', days=365)\n",
        "\n",
        "        if len(historical_data['prices']) < 2:\n",
        "            continue\n",
        "\n",
        "        first_price = historical_data['prices'][0][1]\n",
        "        last_price = historical_data['prices'][-1][1]\n",
        "\n",
        "        profit_loss = ((last_price - first_price) / first_price) * 100\n",
        "\n",
        "        if coin['name'] not in [coin[0] for coin in sorted_performance[:10]] and profit_loss >= 10:\n",
        "            hidden_gems[coin['name']] = profit_loss\n",
        "\n",
        "    return hidden_gems\n",
        "\n",
        "if __name__ == '__main__':\n",
        "    best_coin = best_coin_to_buy()\n",
        "    print(f\"The best performing coin to buy now is {best_coin}\")\n",
        "\n",
        "    performance = predicted_performance()\n",
        "    sorted_performance = sorted(performance.items(), key=lambda x: x[1], reverse=True)\n",
        "\n",
        "    print(\"Predicted performance of top 10 coins:\")\n",
        "    for coin, profit_loss in sorted_performance[:10]:\n",
        "        print(f\"{coin}: {profit_loss:.2f}%\")\n",
        "\n",
        "    hidden_gems = hidden_gems()\n",
        "    sorted_hidden_gems = sorted(hidden_gems.items(), key=lambda x: x[1], reverse=True)\n",
        "\n",
        "    print(\"\\nHidden gems (coins with a profit/loss of at least 10% that are not in the top 10):\")\n",
        "    for coin, profit_loss in sorted_hidden_gems:\n",
        "        print(f\"{coin}: {profit_loss:.2f}%\")"
      ],
      "metadata": {
        "colab": {
          "base_uri": "https://localhost:8080/"
        },
        "id": "kigUj0P7STo4",
        "outputId": "287c7c00-37c0-4630-c92c-3b94f724bbdf"
      },
      "execution_count": null,
      "outputs": [
        {
          "output_type": "stream",
          "name": "stdout",
          "text": [
            "The best performing coin to buy now is OKB\n",
            "Predicted performance of top 10 coins:\n",
            "USD Coin: 0.20%\n",
            "Tether: 0.18%\n",
            "BNB: -22.22%\n",
            "Polygon: -24.13%\n",
            "Bitcoin: -29.89%\n",
            "XRP: -34.80%\n",
            "Dogecoin: -35.24%\n",
            "Ethereum: -36.20%\n",
            "Lido Staked Ether: -36.67%\n",
            "Cardano: -55.94%\n",
            "The best performing coin to buy now is OKB\n",
            "Predicted performance of top 10 coins:\n",
            "USD Coin: 0.20%\n",
            "Tether: 0.18%\n",
            "BNB: -22.22%\n",
            "Polygon: -24.13%\n",
            "Bitcoin: -29.89%\n",
            "XRP: -34.80%\n",
            "Dogecoin: -35.24%\n",
            "Ethereum: -36.20%\n",
            "Lido Staked Ether: -36.67%\n",
            "Cardano: -55.94%\n"
          ]
        }
      ]
    },
    {
      "cell_type": "markdown",
      "source": [
        "News vergleichen und sammeln:"
      ],
      "metadata": {
        "id": "4oZp_QhBTJ7_"
      }
    },
    {
      "cell_type": "code",
      "source": [
        "import requests\n",
        "import json\n",
        "from textblob import TextBlob\n",
        "\n",
        "def get_news_articles(crypto):\n",
        "    url = f\"https://api.opennewsapi.org/v1/search?q={crypto}&language=en\"\n",
        "    response = requests.get(url)\n",
        "    if response.status_code == 200:\n",
        "        data = json.loads(response.text)\n",
        "        return data[\"articles\"]\n",
        "    else:\n",
        "        raise Exception(\"Could not retrieve news for cryptocurrency\")\n",
        "\n",
        "def get_forecast(crypto):\n",
        "    articles = get_news_articles(crypto)\n",
        "    sentiment_polarity = sum(TextBlob(article[\"title\"]).sentiment.polarity for article in articles) / len(articles)\n",
        "    if sentiment_polarity > 0:\n",
        "        return f\"{crypto} is expected to perform well in the next 2-3 months\"\n",
        "    elif sentiment_polarity < 0:\n",
        "        return f\"{crypto} is expected to perform poorly in the next 2-3 months\"\n",
        "    else:\n",
        "        return f\"No clear forecast for {crypto} in the next 2-3 months\"\n",
        "\n",
        "if __name__ == \"__main__\":\n",
        "    top_cryptocurrencies = get_top_cryptocurrencies()\n",
        "    print(\"Top Cryptocurrencies:\")\n",
        "    print(top_cryptocurrencies)\n",
        "    print()\n",
        "    for crypto in top_cryptocurrencies:\n",
        "        forecast = get_forecast(crypto)\n",
        "        print(forecast)"
      ],
      "metadata": {
        "id": "48qoO65DTPY-"
      },
      "execution_count": null,
      "outputs": []
    },
    {
      "cell_type": "markdown",
      "source": [
        "Zweite Analyse mit anderer API"
      ],
      "metadata": {
        "id": "lSzKPhxvWQqZ"
      }
    },
    {
      "cell_type": "code",
      "source": [
        "import requests\n",
        "import json\n",
        "\n",
        "def get_price_forecast(crypto):\n",
        "    api_key = \"fe11fbd2830179077a38ec5fef62a7d997b883ad8a088edcef0ef294e33a3d27\"\n",
        "    url = f\"https://min-api.cryptocompare.com/data/priceforecast?fsym={crypto}&tsym=USD&limit=30&api_key={api_key}\"\n",
        "    response = requests.get(url)\n",
        "    if response.status_code == 200:\n",
        "        data = json.loads(response.text)\n",
        "        return data[\"Data\"]\n",
        "    else:\n",
        "        raise Exception(f\"Could not retrieve price forecast for {crypto}\")\n",
        "\n",
        "def get_technical_indicator(crypto, indicator):\n",
        "    api_key = \"fe11fbd2830179077a38ec5fef62a7d997b883ad8a088edcef0ef294e33a3d27\"\n",
        "    url = f\"https://min-api.cryptocompare.com/data/indicator?fsym={crypto}&tsym=USD&indicator={indicator}&limit=30&api_key={api_key}\"\n",
        "    response = requests.get(url)\n",
        "    if response.status_code == 200:\n",
        "        data = json.loads(response.text)\n",
        "        return data[\"Data\"]\n",
        "    else:\n",
        "        raise Exception(f\"Could not retrieve {indicator} for {crypto}\")\n",
        "\n",
        "def get_top_cryptocurrencies():\n",
        "    api_key = \"fe11fbd2830179077a38ec5fef62a7d997b883ad8a088edcef0ef294e33a3d27\"\n",
        "    url = f\"https://min-api.cryptocompare.com/data/top/mktcapfull?limit=10&tsym=USD&api_key={api_key}\"\n",
        "    response = requests.get(url)\n",
        "    if response.status_code == 200:\n",
        "        data = json.loads(response.text)\n",
        "        return [coin[\"CoinInfo\"][\"Name\"] for coin in data[\"Data\"]]\n",
        "    else:\n",
        "        raise Exception(\"Could not retrieve top cryptocurrencies\")\n",
        "\n",
        "def best_performer():\n",
        "    top_cryptocurrencies = get_top_cryptocurrencies()\n",
        "    best_profit_loss = -100.0\n",
        "    best_coin = \"\"\n",
        "\n",
        "    for crypto in top_cryptocurrencies:\n",
        "        price_forecast = get_price_forecast(crypto)\n",
        "        rsi = get_technical_indicator(crypto, \"RSI\")\n",
        "\n",
        "        # Use the RSI indicator to determine if the crypto is overbought or oversold\n",
        "        if rsi[-1][\"RSI\"] > 70:\n",
        "            continue\n",
        "        elif rsi[-1][\"RSI\"] < 30:\n",
        "            continue\n",
        "\n",
        "        forecasted_price = price_forecast[-1][\"close\"]\n",
        "        current_price = price_forecast[0][\"close\"]\n",
        "\n",
        "        profit_loss = ((forecasted_price - current_price) / current_price) * 100\n",
        "\n",
        "        if profit_loss > best_profit_loss:\n",
        "            best_profit_loss = profit_loss\n",
        "            best_coin = crypto\n",
        "\n",
        "    return best_coin\n",
        "\n",
        "def highest_risk():\n",
        "    top_cryptocurrencies = get_top_cryptocurrencies()\n",
        "    highest_risk = 0.0\n",
        "    riskiest_coin = \"\"\n",
        "\n",
        "    for crypto in top_cryptocurrencies:\n",
        "        risk_score = get_risk_score(crypto)\n",
        "\n",
        "        if risk_score > highest_risk:\n",
        "            highest_risk = risk_score\n",
        "            riskiest_coin = crypto\n",
        "\n",
        "    return riskiest_coin\n",
        "\n",
        "def safest_investment():\n",
        "    top_cryptocurrencies = get_top_cryptocurrencies()\n",
        "    lowest_risk = 100.0\n",
        "    safest_coin = \"\"\n",
        "\n",
        "    for crypto in top_cryptocurrencies:\n",
        "        risk_score = get_risk_score(crypto)\n",
        "\n",
        "        if risk_score < lowest_risk:\n",
        "            lowest_risk = risk_score\n",
        "            safest_coin = crypto\n",
        "\n",
        "    return safest_coin\n",
        "\n",
        "if __name__ == \"__main__\":\n",
        "    best_performing_coin = best_performer()\n",
        "    highest_risk_coin = highest_risk()\n",
        "    safest_investment_coin = safest_investment()\n",
        "\n",
        "    print(f\"The best performing coin for the next 3-7 months is {best_performing_coin}\")\n",
        "    print(f\"The highest risk coin for the next 3-7 months is {highest_risk_coin}\")\n",
        "    print(f\"The safest investment coin for the next 3-7 months is {safest_investment_coin}\")"
      ],
      "metadata": {
        "id": "QIvR9nG8WGLj"
      },
      "execution_count": null,
      "outputs": []
    }
  ]
}