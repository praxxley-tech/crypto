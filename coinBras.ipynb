{
  "nbformat": 4,
  "nbformat_minor": 0,
  "metadata": {
    "colab": {
      "provenance": [],
      "authorship_tag": "ABX9TyPD0h+GSjG1V2Dx9jbsWZSw",
      "include_colab_link": true
    },
    "kernelspec": {
      "name": "python3",
      "display_name": "Python 3"
    },
    "language_info": {
      "name": "python"
    }
  },
  "cells": [
    {
      "cell_type": "markdown",
      "metadata": {
        "id": "view-in-github",
        "colab_type": "text"
      },
      "source": [
        "<a href=\"https://colab.research.google.com/github/praxxley-tech/crypto/blob/main/coinBras.ipynb\" target=\"_parent\"><img src=\"https://colab.research.google.com/assets/colab-badge.svg\" alt=\"Open In Colab\"/></a>"
      ]
    },
    {
      "cell_type": "markdown",
      "source": [
        "Api von Coingecko als Grundlage:"
      ],
      "metadata": {
        "id": "X9YqkLfbBjWr"
      }
    },
    {
      "cell_type": "code",
      "source": [
        "pip install pycoingecko"
      ],
      "metadata": {
        "id": "-k3dyQJPBgrG"
      },
      "execution_count": null,
      "outputs": []
    },
    {
      "cell_type": "code",
      "source": [
        "from pycoingecko import CoinGeckoAPI\n",
        "import datetime\n",
        "import requests\n",
        "from bs4 import BeautifulSoup\n",
        "\n",
        "cg = CoinGeckoAPI()\n",
        "\n",
        "def get_crypto_data():\n",
        "    top_100_coins = cg.get_coins_markets(vs_currency='usd', per_page=100)\n",
        "\n",
        "    end_date = datetime.date.today() - datetime.timedelta(days=180)\n",
        "\n",
        "    for coin in top_100_coins:\n",
        "        coin_id = coin['id']\n",
        "        historical_data = cg.get_coin_market_chart_by_id(coin_id, vs_currency='usd', days=180)\n",
        "        \n",
        "        # Analyse der historischen Daten und Berechnung von Gewinn/Verlust\n",
        "        def analyze_historical_data(historical_data):\n",
        "    prices = historical_data['prices']\n",
        "    if len(prices) < 2:\n",
        "        return None\n",
        "\n",
        "    first_price = prices[0][1]\n",
        "    last_price = prices[-1][1]\n",
        "\n",
        "    profit_loss = ((last_price - first_price) / first_price) * 100\n",
        "    return profit_loss\n",
        "\n",
        "def get_crypto_data():\n",
        "    top_100_coins = cg.get_coins_markets(vs_currency='usd', per_page=100)\n",
        "\n",
        "    end_date = datetime.date.today() - datetime.timedelta(days=180)\n",
        "\n",
        "    coins_profit_loss = []\n",
        "\n",
        "    for coin in top_100_coins:\n",
        "        coin_id = coin['id']\n",
        "        historical_data = cg.get_coin_market_chart_by_id(coin_id, vs_currency='usd', days=180)\n",
        "\n",
        "        profit_loss = analyze_historical_data(historical_data)\n",
        "        if profit_loss is not None:\n",
        "            coins_profit_loss.append((coin['symbol'], profit_loss))\n",
        "\n",
        "    coins_profit_loss.sort(key=lambda x: x[1], reverse=True)\n",
        "\n",
        "    for coin_symbol, profit_loss in coins_profit_loss:\n",
        "        print(f\"{coin_symbol.upper()}: {profit_loss:.2f}%\")\n",
        "\n",
        "if __name__ == '__main__':\n",
        "    get_crypto_data()\n",
        "\n",
        "\n",
        "    # Berücksichtigen Sie verbleibende Münzen und Kaufverhalten\n",
        "    # ...\n",
        "\n",
        "    # Häufigkeit der Erwähnung in den Nachrichten\n",
        "    # ...\n",
        "\n",
        "def get_news_mentions(coin_name):\n",
        "    url = f'https://news.google.com/search?q={coin_name}%20cryptocurrency&hl=en-US&gl=US&ceid=US:en'\n",
        "    response = requests.get(url)\n",
        "    soup = BeautifulSoup(response.text, 'html.parser')\n",
        "    return len(soup.find_all('article'))\n",
        "\n",
        "if __name__ == '__main__':\n",
        "    get_crypto_data()\n"
      ],
      "metadata": {
        "id": "SJ0ZncsYBuKz"
      },
      "execution_count": null,
      "outputs": []
    }
  ]
}